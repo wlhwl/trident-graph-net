{
 "cells": [
  {
   "cell_type": "code",
   "execution_count": 1,
   "metadata": {},
   "outputs": [
    {
     "name": "stdout",
     "output_type": "stream",
     "text": [
      "\u001b[1;34mgraphnet\u001b[0m [MainProcess] \u001b[33mWARNING \u001b[0m 2024-09-28 19:40:45 - has_icecube_package - `icecube` not available. Some functionality may be missing.\u001b[0m\n",
      "\u001b[1;34mgraphnet\u001b[0m [MainProcess] \u001b[32mINFO    \u001b[0m 2024-09-28 19:40:52 - TRIDENT.__init__ - Writing log to \u001b[1mlogs/graphnet_20240928-194052.log\u001b[0m\n",
      "\u001b[1;34mgraphnet\u001b[0m [MainProcess] \u001b[33mWARNING \u001b[0m 2024-09-28 19:40:52 - TRIDENTGraphDefinition.__init__ - No EdgeDefinition given. Graphs will not have edges!\u001b[0m\n",
      "\u001b[1;34mgraphnet\u001b[0m [MainProcess] \u001b[32mINFO    \u001b[0m 2024-09-28 19:40:53 - _set_dataloader_kwargs - No `val_dataloader_kwargs` given. This arg has been set to `train_dataloader_kwargs` with `shuffle` = False.\u001b[0m\n",
      "\u001b[1;34mgraphnet\u001b[0m [MainProcess] \u001b[32mINFO    \u001b[0m 2024-09-28 19:40:53 - _set_dataloader_kwargs - No `test_dataloader_kwargs` given. This arg has been set to `train_dataloader_kwargs` with `shuffle` = False.\u001b[0m\n"
     ]
    }
   ],
   "source": [
    "# import sys\n",
    "# import os\n",
    "# sys.path.append(os.getcwd())\n",
    "from graphnet.datasets import TRIDENTSmall\n",
    "from TRIDENTGraphDefinition import TRIDENTGraphDefinition\n",
    "from TRIDENTNodeDefinition import TRIDENTNodeDefinition\n",
    "\n",
    "graph_definition = TRIDENTGraphDefinition(node_definition=TRIDENTNodeDefinition())\n",
    "\n",
    "dataset =  TRIDENTSmall(graph_definition = graph_definition,\n",
    "                    download_dir = '../datasets',\n",
    "                    train_dataloader_kwargs = {\n",
    "                        'batch_size': 3,\n",
    "                        'num_workers': 1,\n",
    "                        },\n",
    "                    backend = 'sqlite')"
   ]
  },
  {
   "cell_type": "code",
   "execution_count": 2,
   "metadata": {},
   "outputs": [
    {
     "data": {
      "text/plain": [
       "TRIDENTNodeDefinition(\n",
       "  TRIDENTNodeDefinition(\n",
       "  {\n",
       "      'arguments': {\n",
       "          'output_feature_names': ['nx', 'ny', 'nz', 't1st', 'nhits', 'norm_xyz'],\n",
       "          'keys': ['sensor_pos_x', 'sensor_pos_y', 'sensor_pos_z', 't'],\n",
       "          'id_columns': ['sensor_pos_x', 'sensor_pos_y', 'sensor_pos_z'],\n",
       "          'time_column': 't',\n",
       "      },\n",
       "  })\n",
       ")"
      ]
     },
     "execution_count": 2,
     "metadata": {},
     "output_type": "execute_result"
    }
   ],
   "source": [
    "graph_definition._node_definition"
   ]
  },
  {
   "cell_type": "code",
   "execution_count": 3,
   "metadata": {},
   "outputs": [],
   "source": [
    "train_dataloader = dataset.train_dataloader\n",
    "val_dataloader = dataset.val_dataloader\n",
    "test_dataloader = dataset.test_dataloader"
   ]
  },
  {
   "cell_type": "code",
   "execution_count": 4,
   "metadata": {},
   "outputs": [
    {
     "name": "stdout",
     "output_type": "stream",
     "text": [
      "Start. x shape: torch.Size([0, 4])\n",
      "Start. x shape: torch.Size([2, 4])\n",
      "End. x shape: (2, 6)\n",
      "Num hits: 2.0\n",
      "Start. x shape: torch.Size([46, 4])\n",
      "End. x shape: (9, 6)\n",
      "Num hits: 46.0\n",
      "Start. x shape: torch.Size([1, 4])\n",
      "End. x shape: (1, 6)\n",
      "Num hits: 1.0\n",
      "Start. x shape: torch.Size([6, 4])\n",
      "End. x shape: (5, 6)\n",
      "Num hits: 6.0\n",
      "Start. x shape: torch.Size([3, 4])\n",
      "End. x shape: (3, 6)\n",
      "Num hits: 3.0\n",
      "Start. x shape: torch.Size([4, 4])\n",
      "DataBatch(x=[11, 6], n_pulses=[2], dataset_path=[2], event_no=[2], muon=[2], muon_stopped=[2], noise=[2], neutrino=[2], v_e=[2], v_u=[2], v_t=[2], track=[2], dbang=[2], corsika=[2], interaction=[2], initial_state_energy=[2], initial_state_type=[2], initial_state_zenith=[2], initial_state_azimuth=[2], initial_state_x=[2], initial_state_y=[2], initial_state_z=[2], direction=[2, 3], features=[2], nx=[11], ny=[11], nz=[11], t1st=[11], nhits=[11], norm_xyz=[11], graph_definition=[2], batch=[11], ptr=[3])\n",
      "tensor([[ 0.0000e+00,  0.0000e+00,  0.0000e+00,  0.0000e+00,  1.0000e+00,\n",
      "          0.0000e+00],\n",
      "        [ 7.5632e-01, -6.5420e-01,  0.0000e+00,  8.6612e-01,  1.0000e+00,\n",
      "          9.4225e+01],\n",
      "        [-8.7075e-01,  2.4799e-01,  4.2462e-01,  2.7056e+02,  1.0000e+00,\n",
      "          2.1196e+02],\n",
      "        [-8.0344e-01,  2.6745e-01,  5.3194e-01,  2.5211e+01,  1.0000e+00,\n",
      "          1.1279e+02],\n",
      "        [-3.8726e-01,  6.8051e-01, -6.2204e-01,  2.2090e+02,  1.0000e+00,\n",
      "          1.9291e+02],\n",
      "        [-9.0066e-02, -9.5993e-01, -2.6537e-01,  1.3358e+02,  1.0000e+00,\n",
      "          1.1305e+02],\n",
      "        [-7.2033e-02, -7.6773e-01,  6.3671e-01,  1.6737e+02,  1.0000e+00,\n",
      "          1.4135e+02],\n",
      "        [ 0.0000e+00,  0.0000e+00, -1.0000e+00,  2.4838e+01,  7.0000e+00,\n",
      "          3.0000e+01],\n",
      "        [ 0.0000e+00,  0.0000e+00,  0.0000e+00,  9.7577e-01,  1.1000e+01,\n",
      "          0.0000e+00],\n",
      "        [ 0.0000e+00,  0.0000e+00,  1.0000e+00,  4.6640e+00,  2.2000e+01,\n",
      "          3.0000e+01],\n",
      "        [ 8.7335e-01, -3.8210e-01, -3.0210e-01,  1.3686e+02,  1.0000e+00,\n",
      "          9.9305e+01]])\n",
      "tensor([  0.8733,   0.6805,   1.0000, 270.5569,  22.0000, 211.9556])\n",
      "tensor([-0.8707, -0.9599, -1.0000,  0.0000,  1.0000,  0.0000])\n",
      "End. x shape: (4, 6)\n",
      "Num hits: 4.0"
     ]
    }
   ],
   "source": [
    "batch = next(iter(train_dataloader))\n",
    "print(batch)\n",
    "data = batch[0]\n",
    "# print(batch.sensor_pos_x)\n",
    "print(batch.x)\n",
    "print(batch.x.max(dim=0)[0])\n",
    "print(batch.x.min(dim=0)[0])"
   ]
  },
  {
   "cell_type": "code",
   "execution_count": 6,
   "metadata": {},
   "outputs": [
    {
     "data": {
      "text/plain": [
       "tensor([46], dtype=torch.int32)"
      ]
     },
     "execution_count": 6,
     "metadata": {},
     "output_type": "execute_result"
    }
   ],
   "source": [
    "batch[1][\"n_pulses\"]"
   ]
  },
  {
   "cell_type": "code",
   "execution_count": 7,
   "metadata": {},
   "outputs": [
    {
     "data": {
      "text/plain": [
       "tensor([[-0.8707,  0.2480,  0.4246],\n",
       "        [-0.8034,  0.2675,  0.5319],\n",
       "        [-0.3873,  0.6805, -0.6220],\n",
       "        [-0.0901, -0.9599, -0.2654],\n",
       "        [-0.0720, -0.7677,  0.6367],\n",
       "        [ 0.0000,  0.0000, -1.0000],\n",
       "        [ 0.0000,  0.0000,  0.0000],\n",
       "        [ 0.0000,  0.0000,  1.0000],\n",
       "        [ 0.8733, -0.3821, -0.3021]])"
      ]
     },
     "execution_count": 7,
     "metadata": {},
     "output_type": "execute_result"
    }
   ],
   "source": [
    "batch[1].x[:,0:3]"
   ]
  },
  {
   "cell_type": "code",
   "execution_count": 8,
   "metadata": {},
   "outputs": [
    {
     "data": {
      "text/plain": [
       "tensor(46.)"
      ]
     },
     "execution_count": 8,
     "metadata": {},
     "output_type": "execute_result"
    }
   ],
   "source": [
    "batch[1].x[:,4]\n",
    "sum(batch[1].x[:,4])"
   ]
  },
  {
   "cell_type": "code",
   "execution_count": 9,
   "metadata": {},
   "outputs": [
    {
     "name": "stdout",
     "output_type": "stream",
     "text": [
      "tensor(46.)\n",
      "46\n"
     ]
    },
    {
     "data": {
      "image/png": "[encoded data removed]",
      "text/plain": [
       "<Figure size 640x480 with 1 Axes>"
      ]
     },
     "metadata": {},
     "output_type": "display_data"
    }
   ],
   "source": [
    "from matplotlib import pyplot as plt \n",
    "fig, ax = plt.subplots()\n",
    "for i, batch in enumerate(train_dataloader):\n",
    "    ax.scatter((batch[1].x[:,0] * batch[1].x[:,5]).numpy(), (batch[1].x[:,1] * batch[1].x[:,5]).numpy(), s=1)\n",
    "    print(sum(batch[1].x[:,4]))\n",
    "    print(sum(batch[1][\"n_pulses\"].numpy()))\n",
    "    if i==0:\n",
    "        break\n",
    "fig.show()"
   ]
  }
 ],
 "metadata": {
  "kernelspec": {
   "display_name": "ML_venv",
   "language": "python",
   "name": "python3"
  },
  "language_info": {
   "codemirror_mode": {
    "name": "ipython",
    "version": 3
   },
   "file_extension": ".py",
   "mimetype": "text/x-python",
   "name": "python",
   "nbconvert_exporter": "python",
   "pygments_lexer": "ipython3",
   "version": "3.9.7"
  }
 },
 "nbformat": 4,
 "nbformat_minor": 2
}

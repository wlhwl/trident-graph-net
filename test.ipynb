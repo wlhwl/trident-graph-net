{
 "cells": [
  {
   "cell_type": "markdown",
   "metadata": {},
   "source": [
    "## Graphdefinition and NodeDefinition test"
   ]
  },
  {
   "cell_type": "code",
   "execution_count": 1,
   "metadata": {},
   "outputs": [
    {
     "name": "stdout",
     "output_type": "stream",
     "text": [
      "\u001b[1;34mgraphnet\u001b[0m [MainProcess] \u001b[33mWARNING \u001b[0m 2024-10-28 21:33:28 - <module> - `icecube` not available. Some functionality may be missing.\u001b[0m\n",
      "\u001b[1;34mgraphnet\u001b[0m [MainProcess] \u001b[33mWARNING \u001b[0m 2024-10-28 21:33:29 - <module> - `jammy_flows` not available. Normalizing Flow functionality is missing.\u001b[0m\n",
      "\u001b[1;34mgraphnet\u001b[0m [MainProcess] \u001b[32mINFO    \u001b[0m 2024-10-28 21:33:29 - TRIDENT.__init__ - Writing log to \u001b[1mlogs/graphnet_20241028-213329.log\u001b[0m\n",
      "\u001b[1;34mgraphnet\u001b[0m [MainProcess] \u001b[33mWARNING \u001b[0m 2024-10-28 21:33:29 - TRIDENTGraphDefinition.__call__ - No EdgeDefinition given. Graphs will not have edges!\u001b[0m\n",
      "\u001b[1;34mgraphnet\u001b[0m [MainProcess] \u001b[32mINFO    \u001b[0m 2024-10-28 21:33:30 - __init__ - No `val_dataloader_kwargs` given. This arg has been set to `train_dataloader_kwargs` with `shuffle` = False.\u001b[0m\n",
      "\u001b[1;34mgraphnet\u001b[0m [MainProcess] \u001b[32mINFO    \u001b[0m 2024-10-28 21:33:30 - __init__ - No `test_dataloader_kwargs` given. This arg has been set to `train_dataloader_kwargs` with `shuffle` = False.\u001b[0m\n"
     ]
    }
   ],
   "source": [
    "# import sys\n",
    "# import os\n",
    "# sys.path.append(os.getcwd())\n",
    "from graphnet.datasets import TRIDENTSmall\n",
    "from TRIDENTGraphDefinition import TRIDENTGraphDefinition\n",
    "from TRIDENTNodeDefinition import TRIDENTNodeDefinition\n",
    "\n",
    "graph_definition = TRIDENTGraphDefinition(node_definition=TRIDENTNodeDefinition())\n",
    "\n",
    "dataset =  TRIDENTSmall(graph_definition = graph_definition,\n",
    "                    download_dir = './datasets',\n",
    "                    train_dataloader_kwargs = {\n",
    "                        'batch_size': 3,\n",
    "                        'num_workers': 1,\n",
    "                        },\n",
    "                    backend = 'sqlite')"
   ]
  },
  {
   "cell_type": "code",
   "execution_count": 2,
   "metadata": {},
   "outputs": [
    {
     "data": {
      "text/plain": [
       "TRIDENTNodeDefinition(\n",
       "  TRIDENTNodeDefinition(\n",
       "  {\n",
       "      'arguments': {\n",
       "          'output_feature_names': ['nx', 'ny', 'nz', 't1st', 'nhits', 'norm_xyz'],\n",
       "          'keys': ['sensor_pos_x', 'sensor_pos_y', 'sensor_pos_z', 't'],\n",
       "          'id_columns': ['sensor_pos_x', 'sensor_pos_y', 'sensor_pos_z'],\n",
       "          'time_column': 't',\n",
       "      },\n",
       "  })\n",
       ")"
      ]
     },
     "execution_count": 2,
     "metadata": {},
     "output_type": "execute_result"
    }
   ],
   "source": [
    "graph_definition._node_definition"
   ]
  },
  {
   "cell_type": "code",
   "execution_count": 3,
   "metadata": {},
   "outputs": [],
   "source": [
    "train_dataloader = dataset.train_dataloader\n",
    "val_dataloader = dataset.val_dataloader\n",
    "test_dataloader = dataset.test_dataloader"
   ]
  },
  {
   "cell_type": "code",
   "execution_count": 4,
   "metadata": {},
   "outputs": [
    {
     "name": "stdout",
     "output_type": "stream",
     "text": [
      "\u001b[1;34mgraphnet\u001b[0m [Process-1] \u001b[33mWARNING \u001b[0m 2024-10-28 21:33:32 - <module> - `icecube` not available. Some functionality may be missing.\u001b[0m\n",
      "\u001b[1;34mgraphnet\u001b[0m [Process-1] \u001b[33mWARNING \u001b[0m 2024-10-28 21:33:33 - <module> - `jammy_flows` not available. Normalizing Flow functionality is missing.\u001b[0m\n",
      "\u001b[1;34mgraphnet\u001b[0m [Process-1] \u001b[32mINFO    \u001b[0m 2024-10-28 21:33:33 - TRIDENT.__init__ - Writing log to \u001b[1mlogs/graphnet_20241028-213333.log\u001b[0m\n",
      "Start. x shape: torch.Size([0, 4])\n",
      "Start. x shape: torch.Size([2, 4])\n",
      "End. x shape: (2, 6)\n",
      "Num hits: 2.0\n",
      "Start. x shape: torch.Size([46, 4])\n",
      "End. x shape: (9, 6)\n",
      "Num hits: 46.0\n",
      "Start. x shape: torch.Size([1, 4])\n",
      "End. x shape: (1, 6)\n",
      "Num hits: 1.0\n",
      "Start. x shape: torch.Size([6, 4])\n",
      "End. x shape: (5, 6)\n",
      "Num hits: 6.0\n",
      "Start. x shape: torch.Size([3, 4])\n",
      "End. x shape: (3, 6)\n",
      "Num hits: 3.0\n",
      "DataBatch(x=[11, 6], n_pulses=[2], dataset_path=[2], event_no=[2], muon=[2], muon_stopped=[2], noise=[2], neutrino=[2], v_e=[2], v_u=[2], v_t=[2], track=[2], dbang=[2], corsika=[2], interaction=[2], initial_state_energy=[2], initial_state_type=[2], initial_state_zenith=[2], initial_state_azimuth=[2], initial_state_x=[2], initial_state_y=[2], initial_state_z=[2], direction=[2, 3], features=[2], nx=[11], ny=[11], nz=[11], t1st=[11], nhits=[11], norm_xyz=[11], graph_definition=[2], batch=[11], ptr=[3])\n",
      "Start. x shape: torch.Size([4, 4])\n",
      "tensor([[ 0.0000e+00,  0.0000e+00,  0.0000e+00,  0.0000e+00,  1.0000e+00,\n",
      "          0.0000e+00],\n",
      "        [ 7.5632e-01, -6.5420e-01,  0.0000e+00,  8.6612e-01,  1.0000e+00,\n",
      "          9.4225e+01],\n",
      "        [-8.7075e-01,  2.4799e-01,  4.2462e-01,  2.7056e+02,  1.0000e+00,\n",
      "          2.1196e+02],\n",
      "        [-8.0344e-01,  2.6745e-01,  5.3194e-01,  2.5211e+01,  1.0000e+00,\n",
      "          1.1279e+02],\n",
      "        [-3.8726e-01,  6.8051e-01, -6.2204e-01,  2.2090e+02,  1.0000e+00,\n",
      "          1.9291e+02],\n",
      "        [-9.0066e-02, -9.5993e-01, -2.6537e-01,  1.3358e+02,  1.0000e+00,\n",
      "          1.1305e+02],\n",
      "        [-7.2033e-02, -7.6773e-01,  6.3671e-01,  1.6737e+02,  1.0000e+00,\n",
      "          1.4135e+02],\n",
      "        [ 0.0000e+00,  0.0000e+00, -1.0000e+00,  2.4838e+01,  7.0000e+00,\n",
      "          3.0000e+01],\n",
      "        [ 0.0000e+00,  0.0000e+00,  0.0000e+00,  9.7577e-01,  1.1000e+01,\n",
      "          0.0000e+00],\n",
      "        [ 0.0000e+00,  0.0000e+00,  1.0000e+00,  4.6640e+00,  2.2000e+01,\n",
      "          3.0000e+01],\n",
      "        [ 8.7335e-01, -3.8210e-01, -3.0210e-01,  1.3686e+02,  1.0000e+00,\n",
      "          9.9305e+01]])\n",
      "End. x shape: (4, 6)\n",
      "Num hits: 4.0\n",
      "Start. x shape: torch.Size([14, 4])\n",
      "tensor([  0.8733,   0.6805,   1.0000, 270.5569,  22.0000, 211.9556])\n",
      "End. x shape: (4, 6)\n",
      "Num hits: 14.0\n",
      "tensor([-0.8707, -0.9599, -1.0000,  0.0000,  1.0000,  0.0000])\n",
      "Start. x shape: torch.Size([23, 4])\n",
      "End. x shape: (6, 6)\n",
      "Num hits: 23.0\n"
     ]
    }
   ],
   "source": [
    "batch = next(iter(train_dataloader))\n",
    "print(batch)\n",
    "data = batch[0]\n",
    "# print(batch.sensor_pos_x)\n",
    "print(batch.x)\n",
    "print(batch.x.max(dim=0)[0])\n",
    "print(batch.x.min(dim=0)[0])"
   ]
  },
  {
   "cell_type": "code",
   "execution_count": 5,
   "metadata": {},
   "outputs": [
    {
     "data": {
      "text/plain": [
       "tensor([46], dtype=torch.int32)"
      ]
     },
     "execution_count": 5,
     "metadata": {},
     "output_type": "execute_result"
    }
   ],
   "source": [
    "batch[1][\"n_pulses\"]"
   ]
  },
  {
   "cell_type": "code",
   "execution_count": 6,
   "metadata": {},
   "outputs": [
    {
     "data": {
      "text/plain": [
       "tensor([[-0.8707,  0.2480,  0.4246],\n",
       "        [-0.8034,  0.2675,  0.5319],\n",
       "        [-0.3873,  0.6805, -0.6220],\n",
       "        [-0.0901, -0.9599, -0.2654],\n",
       "        [-0.0720, -0.7677,  0.6367],\n",
       "        [ 0.0000,  0.0000, -1.0000],\n",
       "        [ 0.0000,  0.0000,  0.0000],\n",
       "        [ 0.0000,  0.0000,  1.0000],\n",
       "        [ 0.8733, -0.3821, -0.3021]])"
      ]
     },
     "execution_count": 6,
     "metadata": {},
     "output_type": "execute_result"
    }
   ],
   "source": [
    "batch[1].x[:,0:3]"
   ]
  },
  {
   "cell_type": "code",
   "execution_count": 7,
   "metadata": {},
   "outputs": [
    {
     "data": {
      "text/plain": [
       "tensor(46.)"
      ]
     },
     "execution_count": 7,
     "metadata": {},
     "output_type": "execute_result"
    }
   ],
   "source": [
    "batch[1].x[:,4]\n",
    "sum(batch[1].x[:,4])"
   ]
  },
  {
   "cell_type": "code",
   "execution_count": 8,
   "metadata": {},
   "outputs": [
    {
     "name": "stdout",
     "output_type": "stream",
     "text": [
      "Start. x shape: torch.Size([0, 4])\n",
      "Start. x shape: torch.Size([2, 4])\n",
      "End. x shape: (2, 6)\n",
      "Num hits: 2.0\n",
      "Start. x shape: torch.Size([46, 4])\n",
      "End. x shape: (9, 6)\n",
      "Num hits: 46.0\n",
      "Start. x shape: torch.Size([1, 4])\n",
      "End. x shape: (1, 6)\n",
      "Num hits: 1.0\n",
      "Start. x shape: torch.Size([6, 4])\n",
      "End. x shape: (5, 6)\n",
      "Num hits: 6.0\n",
      "Start. x shape: torch.Size([3, 4])\n",
      "End. x shape: (3, 6)\n",
      "Num hits: 3.0\n",
      "Start. x shape: torch.Size([4, 4])\n",
      "End. x shape: (4, 6)\n",
      "Num hits: 4.0\n",
      "Start. x shape: torch.Size([14, 4])\n",
      "End. x shape: (4, 6)\n",
      "Num hits: 14.0\n",
      "Start. x shape: torch.Size([23, 4])\n",
      "End. x shape: (6, 6)\n",
      "Num hits: 23.0\n",
      "tensor(46.)\n",
      "46\n"
     ]
    },
    {
     "name": "stderr",
     "output_type": "stream",
     "text": [
      "/var/folders/4j/0dbg6pc97f793yghk9n2n0340000gn/T/ipykernel_49228/2807249913.py:9: UserWarning: FigureCanvasAgg is non-interactive, and thus cannot be shown\n",
      "  fig.show()\n"
     ]
    },
    {
     "data": {
      "image/png": "[encoded data removed]",
      "text/plain": [
       "<Figure size 640x480 with 1 Axes>"
      ]
     },
     "metadata": {},
     "output_type": "display_data"
    }
   ],
   "source": [
    "from matplotlib import pyplot as plt \n",
    "fig, ax = plt.subplots()\n",
    "for i, batch in enumerate(train_dataloader):\n",
    "    ax.scatter((batch[1].x[:,0] * batch[1].x[:,5]).numpy(), (batch[1].x[:,1] * batch[1].x[:,5]).numpy(), s=1)\n",
    "    print(sum(batch[1].x[:,4]))\n",
    "    print(sum(batch[1][\"n_pulses\"].numpy()))\n",
    "    if i==0:\n",
    "        break\n",
    "fig.show()"
   ]
  },
  {
   "cell_type": "markdown",
   "metadata": {},
   "source": [
    "## Implementation test"
   ]
  },
  {
   "cell_type": "code",
   "execution_count": 230,
   "metadata": {},
   "outputs": [],
   "source": [
    "from typing import Dict, Any\n",
    "\n",
    "config: Dict[str, Any] = {\n",
    "        \"path\": \"./datasets\",\n",
    "        \"batch_size\": 3,\n",
    "        \"num_workers\": 1,\n",
    "        # \"target\": \"direction\",\n",
    "        \"early_stopping_patience\":5,\n",
    "        \"fit\": {\n",
    "            \"gpus\": [0],\n",
    "            \"max_epochs\": 200,\n",
    "        },\n",
    "    }"
   ]
  },
  {
   "cell_type": "code",
   "execution_count": 231,
   "metadata": {},
   "outputs": [],
   "source": [
    "from TRIDENTGraphDefinition import TRIDENTGraphDefinition\n",
    "from TRIDENTGraphDefinition import TRIDENT\n",
    "\n",
    "features = ['sensor_pos_x','sensor_pos_y','sensor_pos_z', \"t\"]\n",
    "graph_definition= TRIDENTGraphDefinition(detector = TRIDENT(),\n",
    "                                input_feature_names=features)"
   ]
  },
  {
   "cell_type": "code",
   "execution_count": 232,
   "metadata": {},
   "outputs": [],
   "source": [
    "from graphnet.datasets import TRIDENTSmall\n",
    "\n",
    "data_module = TRIDENTSmall(graph_definition = graph_definition,\n",
    "                    download_dir = config[\"path\"],\n",
    "                    train_dataloader_kwargs = {\n",
    "                        'batch_size': config[\"batch_size\"],\n",
    "                        'num_workers': config[\"num_workers\"],\n",
    "                        },\n",
    "                    backend = 'sqlite')\n",
    "\n",
    "training_dataloader = data_module.train_dataloader\n",
    "validation_dataloader = data_module.val_dataloader"
   ]
  },
  {
   "cell_type": "code",
   "execution_count": 222,
   "metadata": {},
   "outputs": [],
   "source": [
    "from TridentNet import TridentTrackNet, default_net_setting\n",
    "\n",
    "backbone = TridentTrackNet(settings=default_net_setting,DEVICE=\"cpu\")"
   ]
  },
  {
   "cell_type": "code",
   "execution_count": 233,
   "metadata": {},
   "outputs": [
    {
     "name": "stdout",
     "output_type": "stream",
     "text": [
      "\u001b[1;34mgraphnet\u001b[0m [Process-37] \u001b[33mWARNING \u001b[0m 2024-11-04 15:03:20 - <module> - `icecube` not available. Some functionality may be missing.\u001b[0m\n",
      "\u001b[1;34mgraphnet\u001b[0m [Process-37] \u001b[33mWARNING \u001b[0m 2024-11-04 15:03:21 - <module> - `jammy_flows` not available. Normalizing Flow functionality is missing.\u001b[0m\n",
      "\u001b[1;34mgraphnet\u001b[0m [Process-37] \u001b[32mINFO    \u001b[0m 2024-11-04 15:03:21 - TRIDENT.__init__ - Writing log to \u001b[1mlogs/graphnet_20241104-150321.log\u001b[0m\n",
      "Start. x shape: torch.Size([0, 4])\n",
      "Start. x shape: torch.Size([2, 4])\n",
      "End. x shape: (2, 6)\n",
      "Num hits: 2.0\n",
      "Start. x shape: torch.Size([46, 4])\n",
      "End. x shape: (9, 6)\n",
      "Num hits: 46.0\n",
      "Start. x shape: torch.Size([1, 4])\n",
      "End. x shape: (1, 6)\n",
      "Num hits: 1.0\n",
      "Start. x shape: torch.Size([6, 4])\n",
      "End. x shape: (5, 6)\n",
      "Num hits: 6.0\n",
      "Start. x shape: torch.Size([3, 4])\n",
      "End. x shape: (3, 6)\n",
      "Num hits: 3.0\n",
      "Start. x shape: torch.Size([4, 4])\n",
      "End. x shape: (4, 6)\n",
      "Num hits: 4.0\n",
      "Start. x shape: torch.Size([14, 4])\n",
      "End. x shape: (4, 6)\n",
      "Num hits: 14.0\n",
      "Start. x shape: torch.Size([23, 4])\n",
      "End. x shape: (6, 6)\n",
      "Num hits: 23.0\n"
     ]
    }
   ],
   "source": [
    "batch = next(iter(training_dataloader))\n",
    "# pred=backbone(batch)"
   ]
  },
  {
   "cell_type": "code",
   "execution_count": 218,
   "metadata": {},
   "outputs": [
    {
     "data": {
      "text/plain": [
       "['initial_state_z',\n",
       " 'interaction',\n",
       " 'muon_stopped',\n",
       " 'corsika',\n",
       " 'initial_state_type',\n",
       " 'inject_pos',\n",
       " 'dataset_path',\n",
       " 'ny',\n",
       " 'initial_state_y',\n",
       " 'nhits',\n",
       " 'direction',\n",
       " 'initial_state_azimuth',\n",
       " 'pos',\n",
       " 'dbang',\n",
       " 't1st',\n",
       " 'v_u',\n",
       " 'noise',\n",
       " 'nz',\n",
       " 'initial_state_x',\n",
       " 'graph_definition',\n",
       " 'event_no',\n",
       " 'v_e',\n",
       " 'track',\n",
       " 'n_pulses',\n",
       " 'nx',\n",
       " 'initial_state_energy',\n",
       " 'v_t',\n",
       " 'initial_state_zenith',\n",
       " 'norm_xyz',\n",
       " 'x',\n",
       " 'muon',\n",
       " 'vertex',\n",
       " 'features',\n",
       " 'neutrino']"
      ]
     },
     "execution_count": 218,
     "metadata": {},
     "output_type": "execute_result"
    }
   ],
   "source": [
    "batch[0].keys()"
   ]
  },
  {
   "cell_type": "code",
   "execution_count": 235,
   "metadata": {},
   "outputs": [
    {
     "data": {
      "text/plain": [
       "48"
      ]
     },
     "execution_count": 235,
     "metadata": {},
     "output_type": "execute_result"
    }
   ],
   "source": [
    "len(batch.inject_pos)"
   ]
  },
  {
   "cell_type": "code",
   "execution_count": 247,
   "metadata": {},
   "outputs": [
    {
     "data": {
      "text/plain": [
       "DataBatch(x=[11, 6], n_pulses=[2], dataset_path=[2], event_no=[2], muon=[2], muon_stopped=[2], noise=[2], neutrino=[2], v_e=[2], v_u=[2], v_t=[2], track=[2], dbang=[2], corsika=[2], interaction=[2], initial_state_energy=[2], initial_state_type=[2], initial_state_zenith=[2], initial_state_azimuth=[2], initial_state_x=[2], initial_state_y=[2], initial_state_z=[2], direction=[6], pos=[48, 3], vertex=[6], inject_pos=[48, 3], features=[2], nx=[11], ny=[11], nz=[11], t1st=[11], nhits=[11], norm_xyz=[11], graph_definition=[2], batch=[11], ptr=[3])"
      ]
     },
     "execution_count": 247,
     "metadata": {},
     "output_type": "execute_result"
    }
   ],
   "source": [
    "batch"
   ]
  },
  {
   "cell_type": "code",
   "execution_count": 115,
   "metadata": {},
   "outputs": [],
   "source": [
    "pred = backbone(batch)"
   ]
  },
  {
   "cell_type": "code",
   "execution_count": 118,
   "metadata": {},
   "outputs": [
    {
     "data": {
      "text/plain": [
       "(torch.Tensor, torch.Size([4, 3]))"
      ]
     },
     "execution_count": 118,
     "metadata": {},
     "output_type": "execute_result"
    }
   ],
   "source": [
    "type(pred), pred.size()"
   ]
  },
  {
   "cell_type": "code",
   "execution_count": 25,
   "metadata": {},
   "outputs": [
    {
     "data": {
      "text/plain": [
       "(tensor([0.9168], dtype=torch.float64),\n",
       " tensor([[-0.1223,  0.3801,  0.9168]], dtype=torch.float64))"
      ]
     },
     "execution_count": 25,
     "metadata": {},
     "output_type": "execute_result"
    }
   ],
   "source": [
    "import numpy as np\n",
    "np.cos(batch[0].initial_state_zenith),batch[0].direction"
   ]
  },
  {
   "cell_type": "code",
   "execution_count": 113,
   "metadata": {},
   "outputs": [],
   "source": [
    "batch.x[:,4]\n",
    "from torch_geometric import nn as tgnn\n",
    "sum_weights = tgnn.global_add_pool(batch.x[:,4], batch.batch)"
   ]
  },
  {
   "cell_type": "code",
   "execution_count": 8,
   "metadata": {},
   "outputs": [],
   "source": [
    "from MiddleReconModel import MiddleReconModel\n",
    "model = MiddleReconModel(\n",
    "        backbone=backbone,\n",
    "        optimizer_kwargs={\"lr\": 1e-03},\n",
    "        scheduler_kwargs={\n",
    "            \"patience\": 2,\n",
    "        },\n",
    "        scheduler_config={\n",
    "            \"frequency\": 1,\n",
    "            \"monitor\": \"val_loss\",\n",
    "        },\n",
    "    )"
   ]
  },
  {
   "cell_type": "code",
   "execution_count": 98,
   "metadata": {},
   "outputs": [],
   "source": [
    "import torch\n",
    "\n",
    "t = torch.tensor([[  264.3960,   594.9710, -3075.0000,   348.5565],\n",
    "        [  349.7750,   638.9930, -3075.0000,   280.1174],\n",
    "        [  349.7750,   638.9930, -3045.0000,   278.1992],\n",
    "        [  349.7750,   638.9930, -3015.0000,   0]])"
   ]
  },
  {
   "cell_type": "code",
   "execution_count": 93,
   "metadata": {},
   "outputs": [
    {
     "data": {
      "text/plain": [
       "tensor([  349.7750,   638.9930, -3015.0000,     0.0000])"
      ]
     },
     "execution_count": 93,
     "metadata": {},
     "output_type": "execute_result"
    }
   ],
   "source": [
    "t[torch.min(t[:,3],dim=0)[1]]"
   ]
  },
  {
   "cell_type": "code",
   "execution_count": 181,
   "metadata": {},
   "outputs": [
    {
     "data": {
      "text/plain": [
       "tensor([-188.7141, -486.3596], dtype=torch.float64)"
      ]
     },
     "execution_count": 181,
     "metadata": {},
     "output_type": "execute_result"
    }
   ],
   "source": [
    "batch.initial_state_x"
   ]
  },
  {
   "cell_type": "code",
   "execution_count": 183,
   "metadata": {},
   "outputs": [],
   "source": [
    "vertex=torch.stack([batch[0].initial_state_x,batch[0].initial_state_y,batch[0].initial_state_z],dim=1)"
   ]
  },
  {
   "cell_type": "code",
   "execution_count": 250,
   "metadata": {},
   "outputs": [
    {
     "data": {
      "text/plain": [
       "tensor([[ 0.0000e+00,  0.0000e+00,  0.0000e+00,  0.0000e+00,  1.0000e+00,\n",
       "          0.0000e+00],\n",
       "        [ 7.5632e-01, -6.5420e-01,  0.0000e+00,  8.6612e-01,  1.0000e+00,\n",
       "          9.4225e+01],\n",
       "        [-8.7075e-01,  2.4799e-01,  4.2462e-01,  2.7056e+02,  1.0000e+00,\n",
       "          2.1196e+02],\n",
       "        [-8.0344e-01,  2.6745e-01,  5.3194e-01,  2.5211e+01,  1.0000e+00,\n",
       "          1.1279e+02],\n",
       "        [-3.8726e-01,  6.8051e-01, -6.2204e-01,  2.2090e+02,  1.0000e+00,\n",
       "          1.9291e+02],\n",
       "        [-9.0066e-02, -9.5993e-01, -2.6537e-01,  1.3358e+02,  1.0000e+00,\n",
       "          1.1305e+02],\n",
       "        [-7.2033e-02, -7.6773e-01,  6.3671e-01,  1.6737e+02,  1.0000e+00,\n",
       "          1.4135e+02],\n",
       "        [ 0.0000e+00,  0.0000e+00, -1.0000e+00,  2.4838e+01,  7.0000e+00,\n",
       "          3.0000e+01],\n",
       "        [ 0.0000e+00,  0.0000e+00,  0.0000e+00,  9.7577e-01,  1.1000e+01,\n",
       "          0.0000e+00],\n",
       "        [ 0.0000e+00,  0.0000e+00,  1.0000e+00,  4.6640e+00,  2.2000e+01,\n",
       "          3.0000e+01],\n",
       "        [ 8.7335e-01, -3.8210e-01, -3.0210e-01,  1.3686e+02,  1.0000e+00,\n",
       "          9.9305e+01]])"
      ]
     },
     "execution_count": 250,
     "metadata": {},
     "output_type": "execute_result"
    }
   ],
   "source": [
    "batch.x"
   ]
  },
  {
   "cell_type": "code",
   "execution_count": 249,
   "metadata": {},
   "outputs": [
    {
     "data": {
      "text/plain": [
       "tensor([ 0.0000,  0.7563, -0.8707, -0.8034, -0.3873, -0.0901, -0.0720,  0.0000,\n",
       "         0.0000,  0.0000,  0.8733])"
      ]
     },
     "execution_count": 249,
     "metadata": {},
     "output_type": "execute_result"
    }
   ],
   "source": [
    "batch.nx"
   ]
  },
  {
   "cell_type": "code",
   "execution_count": 253,
   "metadata": {},
   "outputs": [
    {
     "data": {
      "text/plain": [
       "tensor([[   0.0000,    0.0000,    0.0000],\n",
       "        [  71.2640,   -0.6542,    0.0000],\n",
       "        [-184.5600,    0.2480,    0.4246],\n",
       "        [ -90.6230,    0.2675,    0.5319],\n",
       "        [ -74.7070,    0.6805,   -0.6220],\n",
       "        [ -10.1820,   -0.9599,   -0.2654],\n",
       "        [ -10.1820,   -0.7677,    0.6367],\n",
       "        [   0.0000,    0.0000,   -1.0000],\n",
       "        [   0.0000,    0.0000,    0.0000],\n",
       "        [   0.0000,    0.0000,    1.0000],\n",
       "        [  86.7280,   -0.3821,   -0.3021]])"
      ]
     },
     "execution_count": 253,
     "metadata": {},
     "output_type": "execute_result"
    }
   ],
   "source": [
    "torch.stack([batch.nx*batch.norm_xyz,batch.ny,batch.nz],dim=1)"
   ]
  },
  {
   "cell_type": "code",
   "execution_count": 185,
   "metadata": {},
   "outputs": [
    {
     "data": {
      "text/plain": [
       "tensor([ -188.7141,  1183.8876, -2864.4598], dtype=torch.float64)"
      ]
     },
     "execution_count": 185,
     "metadata": {},
     "output_type": "execute_result"
    }
   ],
   "source": [
    "vertex.flatten()"
   ]
  }
 ],
 "metadata": {
  "kernelspec": {
   "display_name": "ML",
   "language": "python",
   "name": "python3"
  },
  "language_info": {
   "codemirror_mode": {
    "name": "ipython",
    "version": 3
   },
   "file_extension": ".py",
   "mimetype": "text/x-python",
   "name": "python",
   "nbconvert_exporter": "python",
   "pygments_lexer": "ipython3",
   "version": "3.11.10"
  }
 },
 "nbformat": 4,
 "nbformat_minor": 2
}

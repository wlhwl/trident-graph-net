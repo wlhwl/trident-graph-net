{
 "cells": [
  {
   "cell_type": "code",
   "execution_count": 5,
   "metadata": {},
   "outputs": [
    {
     "ename": "ModuleNotFoundError",
     "evalue": "No module named 'TRIDENTGraphDefinition'",
     "output_type": "error",
     "traceback": [
      "\u001b[0;31m---------------------------------------------------------------------------\u001b[0m",
      "\u001b[0;31mModuleNotFoundError\u001b[0m                       Traceback (most recent call last)",
      "Cell \u001b[0;32mIn[5], line 2\u001b[0m\n\u001b[1;32m      1\u001b[0m \u001b[38;5;28;01mfrom\u001b[39;00m \u001b[38;5;21;01mgraphnet\u001b[39;00m\u001b[38;5;21;01m.\u001b[39;00m\u001b[38;5;21;01mdatasets\u001b[39;00m \u001b[38;5;28;01mimport\u001b[39;00m TRIDENTSmall\n\u001b[0;32m----> 2\u001b[0m \u001b[38;5;28;01mfrom\u001b[39;00m \u001b[38;5;21;01mTRIDENTGraphDefinition\u001b[39;00m \u001b[38;5;28;01mimport\u001b[39;00m TRIDENTGraphDefinition\n\u001b[1;32m      3\u001b[0m \u001b[38;5;28;01mfrom\u001b[39;00m \u001b[38;5;21;01mTRIDENTNodeDefinition\u001b[39;00m \u001b[38;5;28;01mimport\u001b[39;00m TRIDENTNodeDefinition\n\u001b[1;32m      5\u001b[0m graph_definition \u001b[38;5;241m=\u001b[39m TRIDENTGraphDefinition(node_definition\u001b[38;5;241m=\u001b[39mTRIDENTNodeDefinition())\n",
      "\u001b[0;31mModuleNotFoundError\u001b[0m: No module named 'TRIDENTGraphDefinition'"
     ]
    }
   ],
   "source": [
    "from graphnet.datasets import TRIDENTSmall\n",
    "from TRIDENTGraphDefinition import TRIDENTGraphDefinition\n",
    "from TRIDENTNodeDefinition import TRIDENTNodeDefinition\n",
    "\n",
    "graph_definition = TRIDENTGraphDefinition(node_definition=TRIDENTNodeDefinition())\n",
    "\n",
    "dataset =  TRIDENTSmall(graph_definition = graph_definition,\n",
    "                    download_dir = '../datasets',\n",
    "                    train_dataloader_kwargs = {\n",
    "                        'batch_size': 500,\n",
    "                        'num_workers': 2,\n",
    "                        },\n",
    "                    backend = 'sqlite')"
   ]
  },
  {
   "cell_type": "code",
   "execution_count": null,
   "metadata": {},
   "outputs": [],
   "source": [
    "graph_definition._node_definition"
   ]
  },
  {
   "cell_type": "code",
   "execution_count": 3,
   "metadata": {},
   "outputs": [],
   "source": [
    "train_dataloader = dataset.train_dataloader\n",
    "val_dataloader = dataset.val_dataloader\n",
    "test_dataloader = dataset.test_dataloader"
   ]
  },
  {
   "cell_type": "code",
   "execution_count": null,
   "metadata": {},
   "outputs": [],
   "source": [
    "batch = next(iter(train_dataloader))\n",
    "print(batch)\n",
    "data = batch[0]\n",
    "# print(batch.sensor_pos_x)\n",
    "print(batch.x)\n",
    "print(batch.x.max(dim=0)[0])\n",
    "print(batch.x.min(dim=0)[0])"
   ]
  },
  {
   "cell_type": "code",
   "execution_count": null,
   "metadata": {},
   "outputs": [],
   "source": [
    "batch[1][\"n_pulses\"]"
   ]
  },
  {
   "cell_type": "code",
   "execution_count": null,
   "metadata": {},
   "outputs": [],
   "source": [
    "batch[1].x[:,4]"
   ]
  },
  {
   "cell_type": "code",
   "execution_count": null,
   "metadata": {},
   "outputs": [],
   "source": [
    "from matplotlib import pyplot as plt \n",
    "fig, ax = plt.subplots()\n",
    "for i, batch in enumerate(train_dataloader):\n",
    "    ax.scatter((batch[1].x[:,0] * batch[1].x[:,5]).numpy(), (batch[1].x[:,1] * batch[1].x[:,5]).numpy(), s=1)\n",
    "    print(sum(batch[1].x[:,4]))\n",
    "    print(sum(batch[1][\"n_pulses\"].numpy()))\n",
    "    if i==0:\n",
    "        break\n",
    "fig.show()"
   ]
  }
 ],
 "metadata": {
  "kernelspec": {
   "display_name": "Python 3",
   "language": "python",
   "name": "python3"
  },
  "language_info": {
   "codemirror_mode": {
    "name": "ipython",
    "version": 3
   },
   "file_extension": ".py",
   "mimetype": "text/x-python",
   "name": "python",
   "nbconvert_exporter": "python",
   "pygments_lexer": "ipython3",
   "version": "3.9.7"
  }
 },
 "nbformat": 4,
 "nbformat_minor": 2
}
